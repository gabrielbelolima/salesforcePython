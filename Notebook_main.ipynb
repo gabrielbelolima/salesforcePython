{
 "cells": [
  {
   "cell_type": "markdown",
   "id": "d8748474",
   "metadata": {},
   "source": [
    "# Imports"
   ]
  },
  {
   "cell_type": "code",
   "execution_count": 6,
   "id": "985beeb8",
   "metadata": {
    "ExecuteTime": {
     "end_time": "2023-09-26T14:33:43.394772Z",
     "start_time": "2023-09-26T14:33:43.391259Z"
    }
   },
   "outputs": [],
   "source": [
    "# - Functions\n",
    "from salesforce_simple_salesforce_func import *"
   ]
  },
  {
   "cell_type": "markdown",
   "id": "c1cf5903",
   "metadata": {},
   "source": [
    "# Funtions"
   ]
  },
  {
   "cell_type": "markdown",
   "id": "5d93f972",
   "metadata": {},
   "source": [
    "## get_query()"
   ]
  },
  {
   "cell_type": "markdown",
   "id": "4431a208",
   "metadata": {},
   "source": [
    "- Uses [SOQL syntax!]('https://developer.salesforce.com/docs/atlas.en-us.soql_sosl.meta/soql_sosl/sforce_api_calls_soql.htm') "
   ]
  },
  {
   "cell_type": "markdown",
   "id": "1d1cc3db",
   "metadata": {},
   "source": [
    "### option 1:"
   ]
  },
  {
   "cell_type": "code",
   "execution_count": null,
   "id": "da806506",
   "metadata": {
    "ExecuteTime": {
     "end_time": "2023-09-26T14:20:22.506149Z",
     "start_time": "2023-09-26T14:20:22.441233Z"
    }
   },
   "outputs": [],
   "source": [
    "get_query(\"SELECT col1 FROM tb1 WHERE filter\")"
   ]
  },
  {
   "cell_type": "markdown",
   "id": "1648e0da",
   "metadata": {},
   "source": [
    "### option 2:"
   ]
  },
  {
   "cell_type": "code",
   "execution_count": null,
   "id": "90d69027",
   "metadata": {
    "ExecuteTime": {
     "end_time": "2023-09-26T14:20:22.506149Z",
     "start_time": "2023-09-26T14:20:22.441233Z"
    }
   },
   "outputs": [],
   "source": [
    "query = '''\n",
    "SELECT col1\n",
    "FROM tb1\n",
    "WHERE filter\n",
    "'''\n",
    "\n",
    "get_query(query)"
   ]
  },
  {
   "cell_type": "markdown",
   "id": "d39bbb51",
   "metadata": {},
   "source": [
    "## get_object_names()"
   ]
  },
  {
   "cell_type": "code",
   "execution_count": null,
   "id": "c815ab4e",
   "metadata": {
    "ExecuteTime": {
     "end_time": "2023-09-21T12:24:18.624563Z",
     "start_time": "2023-09-21T12:24:06.868096Z"
    }
   },
   "outputs": [],
   "source": [
    "# Returns Api and Label name from all Salesforce Objects in your model\n",
    "get_objects_names()"
   ]
  },
  {
   "cell_type": "markdown",
   "id": "aa993ccd",
   "metadata": {
    "ExecuteTime": {
     "end_time": "2023-08-08T12:47:58.086772Z",
     "start_time": "2023-08-08T12:47:58.070842Z"
    }
   },
   "source": [
    "## get_table()"
   ]
  },
  {
   "cell_type": "code",
   "execution_count": null,
   "id": "f54237ef",
   "metadata": {
    "ExecuteTime": {
     "end_time": "2023-09-26T14:51:04.027695Z",
     "start_time": "2023-09-26T14:51:03.128453Z"
    }
   },
   "outputs": [],
   "source": [
    "# Returns a pd.DataFrame with the full object or, according to given parameters.\n",
    "RecordType = get_table('RecordType', \n",
    "                       where = None, # adds WHERE string to query e.g.: \"col1 = x\" (no need to use \"WHERE col1 = x\")\n",
    "                       limit = None, # defines a LIMIT = x parameter (pass the value only)\n",
    "                       label = True, # Returns the Api Name or Label Name on the columns\n",
    "                       bar = True # Turns on or off the tqdm (loading bar) while loading the dataframe\n",
    "                      )\n",
    "RecordType"
   ]
  },
  {
   "cell_type": "markdown",
   "id": "7db1b8f6",
   "metadata": {},
   "source": [
    "## get_label()"
   ]
  },
  {
   "cell_type": "code",
   "execution_count": null,
   "id": "3d2cac93",
   "metadata": {
    "ExecuteTime": {
     "end_time": "2023-09-26T14:55:15.744814Z",
     "start_time": "2023-09-26T14:55:15.527074Z"
    }
   },
   "outputs": [],
   "source": [
    "# Returns Api and Label name from all columns of the passed object\n",
    "get_label('RecordType')"
   ]
  },
  {
   "cell_type": "markdown",
   "id": "63aaa866",
   "metadata": {},
   "source": [
    "## get_columns()"
   ]
  },
  {
   "cell_type": "code",
   "execution_count": null,
   "id": "550020c8",
   "metadata": {
    "ExecuteTime": {
     "end_time": "2023-09-26T14:36:52.972040Z",
     "start_time": "2023-09-26T14:36:51.519986Z"
    }
   },
   "outputs": [],
   "source": [
    "# Returns the list of columns from the passed object (If you pass all the columns in a query you don't need to set a LIMIT x with x <= 200. Can be very useful for EDA!)\n",
    "get_columns('RecordType')"
   ]
  }
 ],
 "metadata": {
  "kernelspec": {
   "display_name": "Python 3",
   "language": "python",
   "name": "python3"
  },
  "language_info": {
   "codemirror_mode": {
    "name": "ipython",
    "version": 3
   },
   "file_extension": ".py",
   "mimetype": "text/x-python",
   "name": "python",
   "nbconvert_exporter": "python",
   "pygments_lexer": "ipython3",
   "version": "3.6.13"
  },
  "toc": {
   "base_numbering": 1,
   "nav_menu": {},
   "number_sections": true,
   "sideBar": true,
   "skip_h1_title": false,
   "title_cell": "Table of Contents",
   "title_sidebar": "Contents",
   "toc_cell": false,
   "toc_position": {
    "height": "calc(100% - 180px)",
    "left": "10px",
    "top": "150px",
    "width": "257.417px"
   },
   "toc_section_display": true,
   "toc_window_display": true
  }
 },
 "nbformat": 4,
 "nbformat_minor": 5
}
