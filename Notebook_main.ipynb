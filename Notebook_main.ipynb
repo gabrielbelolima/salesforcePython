{
 "cells": [
  {
   "cell_type": "markdown",
   "id": "d8748474",
   "metadata": {},
   "source": [
    "# Imports"
   ]
  },
  {
   "cell_type": "code",
   "execution_count": null,
   "id": "89bcd987-45ba-4364-8d31-85043954864a",
   "metadata": {
    "ExecuteTime": {
     "end_time": "2023-09-26T14:33:43.394772Z",
     "start_time": "2023-09-26T14:33:43.391259Z"
    }
   },
   "outputs": [],
   "source": [
    "# - Functions\n",
    "from Salesforce import *\n",
    "from login_params import login_params"
   ]
  },
  {
   "cell_type": "code",
   "execution_count": null,
   "id": "570e0971-ed2b-4fe2-8df2-b40a9fa40949",
   "metadata": {},
   "outputs": [],
   "source": [
    "sf = SalesForce(login_params)"
   ]
  },
  {
   "cell_type": "markdown",
   "id": "c1cf5903",
   "metadata": {},
   "source": [
    "# Funtions"
   ]
  },
  {
   "cell_type": "markdown",
   "id": "5d93f972",
   "metadata": {},
   "source": [
    "## get_query()"
   ]
  },
  {
   "cell_type": "markdown",
   "id": "4431a208",
   "metadata": {},
   "source": [
    "- Uses [SOQL syntax!]('https://developer.salesforce.com/docs/atlas.en-us.soql_sosl.meta/soql_sosl/sforce_api_calls_soql.htm') "
   ]
  },
  {
   "cell_type": "markdown",
   "id": "1d1cc3db",
   "metadata": {},
   "source": [
    "### option 1:"
   ]
  },
  {
   "cell_type": "code",
   "execution_count": null,
   "id": "da806506",
   "metadata": {
    "ExecuteTime": {
     "end_time": "2023-09-26T14:20:22.506149Z",
     "start_time": "2023-09-26T14:20:22.441233Z"
    }
   },
   "outputs": [],
   "source": [
    "sf.get_query(\"SELECT col1 FROM tb1 WHERE filter\")"
   ]
  },
  {
   "cell_type": "markdown",
   "id": "1648e0da",
   "metadata": {},
   "source": [
    "### option 2:"
   ]
  },
  {
   "cell_type": "code",
   "execution_count": null,
   "id": "90d69027",
   "metadata": {
    "ExecuteTime": {
     "end_time": "2023-09-26T14:20:22.506149Z",
     "start_time": "2023-09-26T14:20:22.441233Z"
    }
   },
   "outputs": [],
   "source": [
    "query = '''\n",
    "SELECT col1\n",
    "FROM tb1\n",
    "WHERE filter\n",
    "'''\n",
    "\n",
    "sf.get_query(query)"
   ]
  },
  {
   "cell_type": "markdown",
   "id": "d39bbb51",
   "metadata": {},
   "source": [
    "## get_object_names()"
   ]
  },
  {
   "cell_type": "code",
   "execution_count": null,
   "id": "74db8405-c458-474b-86da-a48006a7f70e",
   "metadata": {
    "ExecuteTime": {
     "end_time": "2023-09-21T12:24:18.624563Z",
     "start_time": "2023-09-21T12:24:06.868096Z"
    }
   },
   "outputs": [],
   "source": [
    "# Returns Api and Label name from all Salesforce Objects in your model\n",
    "sf.get_objects_names()"
   ]
  },
  {
   "cell_type": "markdown",
   "id": "aa993ccd",
   "metadata": {
    "ExecuteTime": {
     "end_time": "2023-08-08T12:47:58.086772Z",
     "start_time": "2023-08-08T12:47:58.070842Z"
    }
   },
   "source": [
    "## get_table()"
   ]
  },
  {
   "cell_type": "code",
   "execution_count": null,
   "id": "f54237ef",
   "metadata": {
    "ExecuteTime": {
     "end_time": "2023-09-26T14:51:04.027695Z",
     "start_time": "2023-09-26T14:51:03.128453Z"
    }
   },
   "outputs": [],
   "source": [
    "# Returns a pd.DataFrame with the full object or, according to given parameters.\n",
    "RecordType = sf.get_table(\n",
    "                       table_name = 'RecordType', # FROM  \n",
    "                       where = None, # adds WHERE string to query e.g.: \"col1 = x\" (no need to use \"WHERE col1 = x\")\n",
    "                       limit = None, # defines a LIMIT = x parameter (pass the value only)\n",
    "                       label = True, # Returns the Api Name or Label Name on the columns\n",
    "                       bar = True # Turns on or off the tqdm (loading bar) while loading the dataframe\n",
    "                      )\n",
    "RecordType"
   ]
  },
  {
   "cell_type": "markdown",
   "id": "88e6f013-b310-48f2-8a54-31c6457bd7e1",
   "metadata": {},
   "source": [
    "## get_table_iter()"
   ]
  },
  {
   "cell_type": "code",
   "execution_count": null,
   "id": "c13a8a64-06b2-4fcd-8b60-dbac99bf823a",
   "metadata": {},
   "outputs": [],
   "source": [
    "# Similar to: SELECT {select} FROM {obj} WHERE {lookup_col} IN ({iter_serie}), but implements pagination. Very useful if you are tracking parameters in Salesforce objects. \n",
    "ids_list = ['id1', 'id2', 'id3'] # list, colection, tupple or pd.Series\n",
    "Account = sf.get_table_iter(\n",
    "                            obj = 'Account',  # The object name you want to load (FROM)\n",
    "                            select = ['Id', 'CreatedDate'], # The list of columns you'd like to load from the object passed (SELECT), if None (Default), returns all the columns\n",
    "                            iter_serie=ids_list, # A list of values you'd like to search in the object you are loading\n",
    "                            lookup_col='Id' # The column wich you want to look for the values passed into 'iter_series' parameter (WHERE)\n",
    "                            )\n",
    "Account"
   ]
  },
  {
   "cell_type": "markdown",
   "id": "7db1b8f6",
   "metadata": {},
   "source": [
    "## get_label()"
   ]
  },
  {
   "cell_type": "code",
   "execution_count": null,
   "id": "3d2cac93",
   "metadata": {
    "ExecuteTime": {
     "end_time": "2023-09-26T14:55:15.744814Z",
     "start_time": "2023-09-26T14:55:15.527074Z"
    }
   },
   "outputs": [],
   "source": [
    "# Returns Api and Label name from all columns of the passed object\n",
    "sf.get_label('RecordType')"
   ]
  },
  {
   "cell_type": "markdown",
   "id": "63aaa866",
   "metadata": {},
   "source": [
    "## get_columns()"
   ]
  },
  {
   "cell_type": "code",
   "execution_count": null,
   "id": "550020c8",
   "metadata": {
    "ExecuteTime": {
     "end_time": "2023-09-26T14:36:52.972040Z",
     "start_time": "2023-09-26T14:36:51.519986Z"
    }
   },
   "outputs": [],
   "source": [
    "# Returns the list of columns from the passed object (If you pass all the columns in a query you don't need to set a LIMIT x with x <= 200. Can be very useful for EDA!)\n",
    "sf.get_columns('RecordType')"
   ]
  }
 ],
 "metadata": {
  "kernelspec": {
   "display_name": "Python 3 (ipykernel)",
   "language": "python",
   "name": "python3"
  },
  "language_info": {
   "codemirror_mode": {
    "name": "ipython",
    "version": 3
   },
   "file_extension": ".py",
   "mimetype": "text/x-python",
   "name": "python",
   "nbconvert_exporter": "python",
   "pygments_lexer": "ipython3",
   "version": "3.10.13"
  },
  "toc": {
   "base_numbering": 1,
   "nav_menu": {},
   "number_sections": true,
   "sideBar": true,
   "skip_h1_title": false,
   "title_cell": "Table of Contents",
   "title_sidebar": "Contents",
   "toc_cell": false,
   "toc_position": {
    "height": "calc(100% - 180px)",
    "left": "10px",
    "top": "150px",
    "width": "257.417px"
   },
   "toc_section_display": true,
   "toc_window_display": true
  }
 },
 "nbformat": 4,
 "nbformat_minor": 5
}
